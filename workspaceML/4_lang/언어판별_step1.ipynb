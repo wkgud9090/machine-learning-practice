{
 "cells": [
  {
   "cell_type": "markdown",
   "metadata": {},
   "source": [
    "# 언어 판별 \n",
    "\n",
    "- 알파벳을 사용하는 자연언어가 어떤 나라의 말인지 판정한다. "
   ]
  },
  {
   "cell_type": "code",
   "execution_count": 1,
   "metadata": {},
   "outputs": [
    {
     "data": {
      "text/html": [
       "<style>.container { font-weight: bold !important; }</style>"
      ],
      "text/plain": [
       "<IPython.core.display.HTML object>"
      ]
     },
     "metadata": {},
     "output_type": "display_data"
    },
    {
     "data": {
      "text/html": [
       "<style>.container { width: 98% !important; }</style>"
      ],
      "text/plain": [
       "<IPython.core.display.HTML object>"
      ]
     },
     "metadata": {},
     "output_type": "display_data"
    }
   ],
   "source": [
    "# 주피터 노트북 환경설정\n",
    "import warnings\n",
    "warnings.filterwarnings('ignore')\n",
    "warnings.simplefilter('ignore')\n",
    "\n",
    "from IPython.display import set_matplotlib_formats\n",
    "set_matplotlib_formats(\"retina\")\n",
    "\n",
    "from IPython.display import Image\n",
    "\n",
    "from IPython.core.display import display, HTML\n",
    "display(HTML(\"<style>.container { font-weight: bold !important; }</style>\"))\n",
    "display(HTML(\"<style>.container { width: 98% !important; }</style>\"))\n"
   ]
  },
  {
   "cell_type": "code",
   "execution_count": 2,
   "metadata": {},
   "outputs": [],
   "source": [
    "import numpy as np\n",
    "import pandas as pd\n",
    "import matplotlib\n",
    "import matplotlib.pyplot as plt\n",
    "import seaborn as sns\n",
    "%matplotlib inline\n",
    "plt.rcParams['font.size'] = 12.0\n",
    "plt.rcParams['font.family'] = 'Malgun Gothic'"
   ]
  },
  {
   "cell_type": "code",
   "execution_count": null,
   "metadata": {},
   "outputs": [],
   "source": []
  },
  {
   "cell_type": "markdown",
   "metadata": {},
   "source": [
    "# 머신러닝 과정 \n",
    "\n",
    "- 모듈 임포트 \n",
    "- 데이타 수집 (학습데이타)\n",
    "- 데이타 전처리 \n",
    "- 데이터 학습 (모델화)\n",
    "- 데이터 예측 (테스트데이타)\n",
    "- 데이터 테스트 (정답률)"
   ]
  },
  {
   "cell_type": "code",
   "execution_count": 3,
   "metadata": {},
   "outputs": [],
   "source": [
    "# 학습기 모듈 \n",
    "# from sklearn.neighbors import KNeighborsClassifier\n",
    "# from sklearn.tree import DecisionTreeClassifier\n",
    "# from sklearn.ensemble import RandomForestClassifier\n",
    "# from sklearn.naive_bayes import GaussianNB\n",
    "from sklearn.svm import SVC"
   ]
  },
  {
   "cell_type": "code",
   "execution_count": 4,
   "metadata": {},
   "outputs": [],
   "source": [
    "# 학습데이터와 데스트 전용 데이터로 분할하는 메서드 \n",
    "from sklearn.model_selection import train_test_split\n",
    "from sklearn.metrics import accuracy_score\n",
    "from sklearn.metrics import classification_report"
   ]
  },
  {
   "cell_type": "code",
   "execution_count": null,
   "metadata": {},
   "outputs": [],
   "source": []
  },
  {
   "cell_type": "markdown",
   "metadata": {},
   "source": [
    "# 데이타 수집 \n",
    "\n",
    "- 위키피디아의 기사 \n",
    "- 학습 데이타 : train \n",
    "- 테스트 데이타 : test "
   ]
  },
  {
   "cell_type": "code",
   "execution_count": 6,
   "metadata": {},
   "outputs": [],
   "source": [
    "# 추가 모듈\n",
    "import glob, os.path, re, json"
   ]
  },
  {
   "cell_type": "markdown",
   "metadata": {},
   "source": [
    "# 데이타 전처리 "
   ]
  },
  {
   "cell_type": "code",
   "execution_count": 10,
   "metadata": {},
   "outputs": [
    {
     "data": {
      "text/plain": [
       "['train\\\\en-1.txt',\n",
       " 'train\\\\en-2.txt',\n",
       " 'train\\\\en-3.txt',\n",
       " 'train\\\\en-4.txt',\n",
       " 'train\\\\en-5.txt',\n",
       " 'train\\\\fr-10.txt',\n",
       " 'train\\\\fr-6.txt',\n",
       " 'train\\\\fr-7.txt',\n",
       " 'train\\\\fr-8.txt',\n",
       " 'train\\\\fr-9.txt',\n",
       " 'train\\\\id-11.txt',\n",
       " 'train\\\\id-12.txt',\n",
       " 'train\\\\id-13.txt',\n",
       " 'train\\\\id-14.txt',\n",
       " 'train\\\\id-15.txt',\n",
       " 'train\\\\tl-16.txt',\n",
       " 'train\\\\tl-17.txt',\n",
       " 'train\\\\tl-18.txt',\n",
       " 'train\\\\tl-19.txt',\n",
       " 'train\\\\tl-20.txt']"
      ]
     },
     "execution_count": 10,
     "metadata": {},
     "output_type": "execute_result"
    }
   ],
   "source": [
    "# train 폴더의  파일 목록을  리스트로 반환 \n",
    "# files = glob.glob('C:\\\\workspaceML\\\\lang\\\\train\\\\*.txt')\n",
    "files = glob.glob('train/*.txt')\n",
    "files"
   ]
  },
  {
   "cell_type": "code",
   "execution_count": 8,
   "metadata": {},
   "outputs": [
    {
     "data": {
      "text/plain": [
       "26"
      ]
     },
     "execution_count": 8,
     "metadata": {},
     "output_type": "execute_result"
    }
   ],
   "source": [
    "# 알파벳 빈도수가 저장될 넘파이 배열 생성 \n",
    "count = np.zeros(26, dtype=int)\n",
    "len(count)\n",
    "# count"
   ]
  },
  {
   "cell_type": "code",
   "execution_count": null,
   "metadata": {},
   "outputs": [],
   "source": [
    "# 답지 Y 생성 \n",
    "# fr-3.txt => fr => train_label에 추가 "
   ]
  },
  {
   "cell_type": "code",
   "execution_count": 13,
   "metadata": {},
   "outputs": [
    {
     "name": "stdout",
     "output_type": "stream",
     "text": [
      "en-1.txt  /  en\n",
      "en-2.txt  /  en\n",
      "en-3.txt  /  en\n",
      "en-4.txt  /  en\n",
      "en-5.txt  /  en\n",
      "fr-10.txt  /  fr\n",
      "fr-6.txt  /  fr\n",
      "fr-7.txt  /  fr\n",
      "fr-8.txt  /  fr\n",
      "fr-9.txt  /  fr\n",
      "id-11.txt  /  id\n",
      "id-12.txt  /  id\n",
      "id-13.txt  /  id\n",
      "id-14.txt  /  id\n",
      "id-15.txt  /  id\n",
      "tl-16.txt  /  tl\n",
      "tl-17.txt  /  tl\n",
      "tl-18.txt  /  tl\n",
      "tl-19.txt  /  tl\n",
      "tl-20.txt  /  tl\n"
     ]
    }
   ],
   "source": [
    "train_label = []\n",
    "train_data = []\n",
    "\n",
    "for file_name in files:\n",
    "    # 레이블 구하기   \n",
    "    basename = os.path.basename(file_name)\n",
    "    lang = basename.split(\"-\")[0]\n",
    "    print(basename,' / ', lang)\n",
    "    train_label.append(lang)\n",
    "    \n",
    "# 텍스트 추출하기 \n",
    "    file = open(file_name, \"r\", encoding='utf-8')\n",
    "    text = file.read()\n",
    "    # 소문자로  변환      \n",
    "    text = text.lower()\n",
    "    file.close()\n",
    "    \n",
    "#알파벳 출현 빈도 구하기 \n",
    "    code_a = ord('a')\n",
    "    code_z = ord('z')\n",
    "    # 알파벳 수만큼 0 으로 입력된 리스트 생성\n",
    "    count = np.zeros(26)\n",
    "    for character in text:\n",
    "        code_current = ord(character)\n",
    "        # 알파벳 각 글자의 카운트      \n",
    "        if code_a <= code_current <= code_z:\n",
    "            count[code_current - code_a] += 1\n",
    "    # 정규화 0~1 사이로 값 변경 \n",
    "    total = sum(count)\n",
    "    count = list(map(lambda n:n/total, count))\n",
    "    train_data.append(count)    "
   ]
  },
  {
   "cell_type": "code",
   "execution_count": 14,
   "metadata": {},
   "outputs": [
    {
     "name": "stdout",
     "output_type": "stream",
     "text": [
      "['en', 'en', 'en', 'en', 'en', 'fr', 'fr', 'fr', 'fr', 'fr', 'id', 'id', 'id', 'id', 'id', 'tl', 'tl', 'tl', 'tl', 'tl']\n",
      "[0.07595212187159957, 0.012840043525571273, 0.04570184983677911, 0.04613710554951034, 0.10533188248095757, 0.015669205658324265, 0.019151251360174103, 0.043743199129488576, 0.07399347116430903, 0.0017410228509249185, 0.00544069640914037, 0.05375408052230685, 0.026332970620239392, 0.07747551686615888, 0.08966267682263329, 0.016539717083786723, 0.0, 0.07769314472252448, 0.061371055495103376, 0.08052230685527748, 0.02589771490750816, 0.009793253536452665, 0.014145810663764961, 0.0006528835690968443, 0.02002176278563656, 0.0004352557127312296]\n"
     ]
    }
   ],
   "source": [
    "print(train_label)    \n",
    "print(train_data[0])  "
   ]
  },
  {
   "cell_type": "code",
   "execution_count": null,
   "metadata": {},
   "outputs": [],
   "source": []
  },
  {
   "cell_type": "markdown",
   "metadata": {},
   "source": [
    "# 데이타 학습  : 모델링"
   ]
  },
  {
   "cell_type": "code",
   "execution_count": 83,
   "metadata": {},
   "outputs": [],
   "source": [
    "# 학습기 모듈 \n",
    "from sklearn.neighbors import KNeighborsClassifier\n",
    "from sklearn.tree import DecisionTreeClassifier\n",
    "from sklearn.ensemble import RandomForestClassifier\n",
    "from sklearn.naive_bayes import GaussianNB\n",
    "from sklearn.svm import SVC"
   ]
  },
  {
   "cell_type": "code",
   "execution_count": null,
   "metadata": {},
   "outputs": [],
   "source": []
  },
  {
   "cell_type": "code",
   "execution_count": null,
   "metadata": {},
   "outputs": [],
   "source": []
  },
  {
   "cell_type": "code",
   "execution_count": null,
   "metadata": {},
   "outputs": [],
   "source": []
  },
  {
   "cell_type": "code",
   "execution_count": null,
   "metadata": {},
   "outputs": [],
   "source": []
  },
  {
   "cell_type": "markdown",
   "metadata": {},
   "source": [
    "### 데이터 예측 "
   ]
  },
  {
   "cell_type": "code",
   "execution_count": null,
   "metadata": {},
   "outputs": [],
   "source": []
  },
  {
   "cell_type": "code",
   "execution_count": null,
   "metadata": {},
   "outputs": [],
   "source": []
  },
  {
   "cell_type": "code",
   "execution_count": null,
   "metadata": {},
   "outputs": [],
   "source": []
  },
  {
   "cell_type": "code",
   "execution_count": null,
   "metadata": {},
   "outputs": [],
   "source": []
  },
  {
   "cell_type": "code",
   "execution_count": null,
   "metadata": {},
   "outputs": [],
   "source": []
  },
  {
   "cell_type": "markdown",
   "metadata": {},
   "source": [
    "### 결과 확인 \n",
    "\n",
    "metrics.accuracy_score(label, clf.predict(data))"
   ]
  },
  {
   "cell_type": "code",
   "execution_count": null,
   "metadata": {},
   "outputs": [],
   "source": []
  },
  {
   "cell_type": "code",
   "execution_count": null,
   "metadata": {},
   "outputs": [],
   "source": []
  },
  {
   "cell_type": "code",
   "execution_count": null,
   "metadata": {},
   "outputs": [],
   "source": []
  },
  {
   "cell_type": "code",
   "execution_count": null,
   "metadata": {},
   "outputs": [],
   "source": []
  },
  {
   "cell_type": "code",
   "execution_count": null,
   "metadata": {},
   "outputs": [],
   "source": []
  }
 ],
 "metadata": {
  "kernelspec": {
   "display_name": "Python 3",
   "language": "python",
   "name": "python3"
  },
  "language_info": {
   "codemirror_mode": {
    "name": "ipython",
    "version": 3
   },
   "file_extension": ".py",
   "mimetype": "text/x-python",
   "name": "python",
   "nbconvert_exporter": "python",
   "pygments_lexer": "ipython3",
   "version": "3.7.1"
  }
 },
 "nbformat": 4,
 "nbformat_minor": 2
}
